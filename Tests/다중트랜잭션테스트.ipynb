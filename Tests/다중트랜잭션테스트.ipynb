{
 "cells": [
  {
   "cell_type": "code",
   "execution_count": 1,
   "metadata": {},
   "outputs": [],
   "source": [
    "from pathlib import Path\n",
    "\n",
    "\n",
    "CONNECTION_STRING_PATH = Path('../appsettings.Production.json')\n",
    "CONNECTION_STRING_NAME = 'Database.SQL'\n",
    "\n",
    "USERS_TABLE_NAME = 'users'\n",
    "EOULLIM_BOOTHS_TABLE_NAME = 'EoullimBooths'\n",
    "EOULLIM_BALANCES_TABLE_NAME = 'EoullimBalances'\n",
    "EOULLIM_TRANSACTIONS_TABLE_NAME = 'EoullimTransactions'\n",
    "EOULLIM_PAYMENTS_TABLE_NAME = 'EoullimPayments'\n",
    "\n",
    "BACKEND_URL = 'http://localhost:5213'\n",
    "\n",
    "TEST_USER_COUNT = 100\n",
    "TEST_BOOTH_COUNT = 10"
   ]
  },
  {
   "cell_type": "code",
   "execution_count": 4,
   "metadata": {},
   "outputs": [],
   "source": [
    "import pymysql, json\n",
    "\n",
    "# ConnectionString 로드\n",
    "with CONNECTION_STRING_PATH.open(encoding='utf-8') as f:\n",
    "    connection_keys = {kv[0].strip().lower(): kv[1] for pair in json.load(f)['ConnectionStrings'][CONNECTION_STRING_NAME].split(';') if pair and (kv := pair.split('=')) and len(kv) == 2}\n",
    "    \n",
    "class Connection:\n",
    "    def __enter__(self):\n",
    "        self.conn = pymysql.connect(\n",
    "            host=connection_keys['server'],\n",
    "            port=int(connection_keys['port']),\n",
    "            user=connection_keys['uid'],\n",
    "            password=connection_keys['pwd'],\n",
    "            db=connection_keys['database'],\n",
    "            charset=connection_keys['charset'],\n",
    "            cursorclass=pymysql.cursors.DictCursor\n",
    "        )\n",
    "\n",
    "        return self.conn.cursor()\n",
    "    \n",
    "    def __exit__(self, type, value, traceback):\n",
    "        self.conn.close()\n",
    "\n",
    "def connection():\n",
    "    return Connection()\n",
    "\n",
    "def execute(sql, params=None):\n",
    "    c = connection()\n",
    "    with c as cursor:\n",
    "        cursor.execute(sql, params)\n",
    "        c.conn.commit()\n",
    "\n",
    "def fetch_scalar(sql, params=None):\n",
    "    with connection() as cursor:\n",
    "        cursor.execute(sql, params)\n",
    "        item = cursor.fetchone()\n",
    "        return item and item[list(item.keys())[0]]\n",
    "    \n",
    "def fetch_all(sql, params=None):\n",
    "    with connection() as cursor:\n",
    "        cursor.execute(sql, params)\n",
    "        return cursor.fetchall()"
   ]
  },
  {
   "cell_type": "code",
   "execution_count": 24,
   "metadata": {},
   "outputs": [
    {
     "name": "stdout",
     "output_type": "stream",
     "text": [
      "Server Version: 10.6.14-MariaDB\n",
      "\n",
      "경고: 데이터베이스에 사용자이가 존재합니다. 테스트 진행에 문제가 발생 할 수 있습니다.\n",
      "경고: 데이터베이스에 부스이가 존재합니다. 테스트 진행에 문제가 발생 할 수 있습니다.\n",
      "환경 확인이 완료되었습니다.\n"
     ]
    }
   ],
   "source": [
    "def yn(message):\n",
    "    while True:\n",
    "        answer = input(message + ' (y/n): ').lower()\n",
    "        if answer in ('y', 'n'):\n",
    "            return answer == 'y'\n",
    "        \n",
    "def warn_exists(table_name, name):\n",
    "    if fetch_scalar(f\"SELECT COUNT(*) FROM `{table_name}`\"):\n",
    "        print(f'경고: 데이터베이스에 {name}이가 존재합니다. 테스트 진행에 문제가 발생 할 수 있습니다.')\n",
    "\n",
    "def exec_or_clear(table_name, name):\n",
    "    if fetch_scalar(f\"SELECT COUNT(*) FROM `{table_name}`\"):\n",
    "        print(f'오류: 데이터베이스에 {name}이가 존재하여 테스트 진행이 불가능합니다.')\n",
    "\n",
    "        if not yn(f'{name} 테이블을 초기화 하시겠습니까?'):\n",
    "            exit()\n",
    "\n",
    "        execute(f'DELETE FROM `{table_name}`')\n",
    "\n",
    "\n",
    "# 환경 확인\n",
    "def check_environment():\n",
    "    print(f'Server Version: {fetch_scalar(\"SELECT @@version;\")}')\n",
    "    print()\n",
    "\n",
    "    # 유저 수 확인\n",
    "    warn_exists(USERS_TABLE_NAME, '사용자')\n",
    "    # 부스 수 확인\n",
    "    warn_exists(EOULLIM_BOOTHS_TABLE_NAME, '부스')\n",
    "\n",
    "    # 결제 존재 확인\n",
    "    exec_or_clear(EOULLIM_PAYMENTS_TABLE_NAME, '결제이력')\n",
    "    # 거래 존재 확인\n",
    "    exec_or_clear(EOULLIM_TRANSACTIONS_TABLE_NAME, '거래이력')\n",
    "    # 잔고 존재 확인\n",
    "    exec_or_clear(EOULLIM_BALANCES_TABLE_NAME, '잔고')\n",
    "\n",
    "    print('환경 확인이 완료되었습니다.')\n",
    "\n",
    "check_environment()"
   ]
  },
  {
   "cell_type": "code",
   "execution_count": 5,
   "metadata": {
    "dotnet_interactive": {
     "language": "csharp"
    },
    "polyglot_notebook": {
     "kernelName": "csharp"
    }
   },
   "outputs": [
    {
     "name": "stdout",
     "output_type": "stream",
     "text": [
      "100명의 사용자가 생성되었습니다.\n",
      "10개의 부스가 생성되었습니다.\n",
      "10개의 부스 잔고가 생성되었습니다.\n"
     ]
    }
   ],
   "source": [
    "import string, random\n",
    "\n",
    "\n",
    "def grs(num_strings, string_length):\n",
    "    random_strings = set()\n",
    "    \n",
    "    while len(random_strings) < num_strings:\n",
    "        random_string = ''.join(random.choice(string.ascii_letters) for _ in range(string_length))\n",
    "        random_strings.add(random_string)\n",
    "    \n",
    "    return list(random_strings)\n",
    "\n",
    "\n",
    "def create_user(id, name, phone):\n",
    "    execute(f\"INSERT IGNORE INTO `{USERS_TABLE_NAME}` (`id`, `name`, `phone`) VALUES (%s, %s, %s)\", (id, name, phone))\n",
    "\n",
    "def create_booth(id, token, class_, name, location):\n",
    "    execute(f\"INSERT IGNORE INTO `{EOULLIM_BOOTHS_TABLE_NAME}` (`id`, `token`, `class`, `name`, `location`) VALUES (%s, %s, %s, %s, %s)\", (id, token, class_, name, location))\n",
    "\n",
    "def create_booth_balance(id, booth_id):\n",
    "    execute(f\"INSERT IGNORE INTO `{EOULLIM_BALANCES_TABLE_NAME}` (`id`, `boothId`, `type`) VALUES (%s, %s, %s)\", (id, booth_id, 'booth'))\n",
    "\n",
    "user_ids = list(range(100000, 100000 + TEST_USER_COUNT))\n",
    "booth_ids = list(range(200000, 200000 + TEST_BOOTH_COUNT))\n",
    "booth_balance_ids = list(range(300000, 300000 + TEST_BOOTH_COUNT))\n",
    "\n",
    "for uid, name, phone in zip(\n",
    "    user_ids,\n",
    "    grs(TEST_USER_COUNT, 5),\n",
    "    random.sample(range(0, 99999999), TEST_USER_COUNT)\n",
    "):\n",
    "    phone = f'010{phone:08}'\n",
    "    create_user(uid, name, phone)\n",
    "\n",
    "print(f'{TEST_USER_COUNT}명의 사용자가 생성되었습니다.')\n",
    "\n",
    "for bid, token, class_, name, location in zip(\n",
    "    booth_ids,\n",
    "    grs(TEST_BOOTH_COUNT, 16),\n",
    "    grs(TEST_BOOTH_COUNT, 5),\n",
    "    grs(TEST_BOOTH_COUNT, 5),\n",
    "    grs(TEST_BOOTH_COUNT, 5)\n",
    "):\n",
    "    create_booth(bid, token, class_, name, location)\n",
    "\n",
    "print(f'{TEST_BOOTH_COUNT}개의 부스가 생성되었습니다.')\n",
    "\n",
    "for bid, bbid in zip(\n",
    "    booth_ids,\n",
    "    booth_balance_ids,\n",
    "):\n",
    "    create_booth_balance(bbid, bid)\n",
    "\n",
    "print(f'{TEST_BOOTH_COUNT}개의 부스 잔고가 생성되었습니다.')"
   ]
  },
  {
   "cell_type": "code",
   "execution_count": 6,
   "metadata": {},
   "outputs": [],
   "source": [
    "import requests\n",
    "from concurrent.futures import ThreadPoolExecutor\n",
    "\n",
    "def amount_integrity():\n",
    "    exchange = fetch_scalar(f'SELECT SUM(amount) FROM `{EOULLIM_TRANSACTIONS_TABLE_NAME}` WHERE senderId IS NULL')\n",
    "    balance = fetch_scalar(f'SELECT SUM(amount) FROM `{EOULLIM_BALANCES_TABLE_NAME}`')\n",
    "\n",
    "    print(f'환전금액: {exchange}, 잔고총액: {balance}')\n",
    "    print(f'환전금액과 잔고총액이 일치합니다.') if exchange == balance else print(f'환전금액과 잔고총액이 일치하지 않습니다!!!')\n",
    "    return exchange == balance, exchange, balance\n",
    "\n",
    "def exchange(user_id, amount, message=None):\n",
    "    res = requests.post(\n",
    "        f'{BACKEND_URL}/eoullim/exchange/transfer',\n",
    "        json={\n",
    "            'userId': user_id,\n",
    "            'amount': amount,\n",
    "            'message': message\n",
    "        },\n",
    "        headers={\n",
    "            'authorization': 'Bearer 3'\n",
    "        }\n",
    "    )\n",
    "    res.raise_for_status()\n",
    "    return res.json()\n",
    "\n",
    "def payment(user_id, booth_id, amount):\n",
    "    res = requests.post(\n",
    "        f'{BACKEND_URL}/eoullim/balance/payment',\n",
    "        json={\n",
    "            \"boothId\": booth_id,\n",
    "            \"amount\": amount\n",
    "        },\n",
    "        headers={\n",
    "            'authorization': f'Bearer {user_id}'\n",
    "        }\n",
    "    )\n",
    "    res.raise_for_status()\n",
    "    return res.json()\n"
   ]
  },
  {
   "cell_type": "code",
   "execution_count": 86,
   "metadata": {},
   "outputs": [],
   "source": [
    "# 다중 환전 테스트\n",
    "with ThreadPoolExecutor(64) as pool:\n",
    "    for uid in user_ids:\n",
    "        pool.submit(exchange, uid, 100000)"
   ]
  },
  {
   "cell_type": "code",
   "execution_count": 5,
   "metadata": {},
   "outputs": [],
   "source": [
    "# 집중 결제 테스트\n",
    "target_booth_id = booth_ids[0]\n",
    "\n",
    "with ThreadPoolExecutor(64) as pool:\n",
    "    for uid in user_ids:\n",
    "        pool.submit(payment, uid, target_booth_id, 1000)\n"
   ]
  },
  {
   "cell_type": "code",
   "execution_count": 8,
   "metadata": {},
   "outputs": [
    {
     "name": "stdout",
     "output_type": "stream",
     "text": [
      "예상 결제 횟수: 1000\n"
     ]
    }
   ],
   "source": [
    "# 분산 결제 테스트\n",
    "\n",
    "with ThreadPoolExecutor(64) as pool:\n",
    "    print(f'예상 결제 횟수: {TEST_USER_COUNT * TEST_BOOTH_COUNT}')\n",
    "\n",
    "    for bid in booth_ids:\n",
    "        for uid in user_ids:\n",
    "            pool.submit(payment, uid, bid, 1000)"
   ]
  },
  {
   "cell_type": "code",
   "execution_count": 7,
   "metadata": {},
   "outputs": [
    {
     "name": "stdout",
     "output_type": "stream",
     "text": [
      "환전금액: 10000300, 잔고총액: 10000300\n",
      "환전금액과 잔고총액이 일치합니다.\n"
     ]
    },
    {
     "data": {
      "text/plain": [
       "(True, Decimal('10000300'), Decimal('10000300'))"
      ]
     },
     "execution_count": 7,
     "metadata": {},
     "output_type": "execute_result"
    }
   ],
   "source": [
    "amount_integrity()"
   ]
  },
  {
   "cell_type": "code",
   "execution_count": 30,
   "metadata": {},
   "outputs": [],
   "source": [
    "# 결제 취소\n",
    "# with ThreadPoolExecutor(64) as pool:\n",
    "for id in fetch_all(f'SELECT id FROM `{EOULLIM_PAYMENTS_TABLE_NAME}` WHERE status = \"paid\"'):\n",
    "    id = id['id']\n",
    "    with connection() as cursor:\n",
    "        cursor.execute('SET @a = NULL, @b = NULL, @c = NULL, @d = NULL, @e = NULL, @f = NULL, @g = NULL, @h = NULL, @i = NULL, @j = NULL')\n",
    "        cursor.execute('CALL EoullimPaymentCancel(%s, %s, @a, @b, @c, @d, @e, @f, @g, @h, @i, @j);', (id, None))"
   ]
  }
 ],
 "metadata": {
  "kernelspec": {
   "display_name": "pt310",
   "language": "python",
   "name": "python3"
  },
  "language_info": {
   "codemirror_mode": {
    "name": "ipython",
    "version": 3
   },
   "file_extension": ".py",
   "mimetype": "text/x-python",
   "name": "python",
   "nbconvert_exporter": "python",
   "pygments_lexer": "ipython3",
   "version": "3.10.10"
  },
  "orig_nbformat": 4,
  "polyglot_notebook": {
   "kernelInfo": {
    "defaultKernelName": "csharp",
    "items": [
     {
      "aliases": [],
      "name": "csharp"
     }
    ]
   }
  }
 },
 "nbformat": 4,
 "nbformat_minor": 2
}
